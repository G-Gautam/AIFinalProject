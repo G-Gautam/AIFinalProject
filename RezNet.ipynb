{
 "cells": [
  {
   "cell_type": "code",
   "execution_count": 10,
   "metadata": {},
   "outputs": [],
   "source": [
    "# importing libraries\n",
    "import numpy as np\n",
    "import pandas as pd\n",
    "from PIL import Image\n",
    "import torch\n",
    "import tensorflow as tf\n",
    "import torchvision\n",
    "from torchvision import transforms\n",
    "from torchvision import datasets, transforms, models\n",
    "from torch.utils.data import random_split\n",
    "import torch.optim as optim\n",
    "import torch.nn as nn\n",
    "import matplotlib.pyplot as plt\n",
    "import pickle as pkl\n",
    "import torch.nn as nn\n",
    "import torch.optim as optim\n",
    "import torchvision.models as models\n",
    "import sklearn\n",
    "import seaborn as sns\n",
    "import cv2\n",
    "import skimage.exposure\n",
    "from sklearn.metrics import confusion_matrix\n",
    "from sklearn.model_selection import train_test_split\n",
    "from sklearn import metrics\n",
    "import PIL\n",
    "from tqdm.notebook import tqdm, trange\n",
    "import os"
   ]
  },
  {
   "cell_type": "code",
   "execution_count": 2,
   "metadata": {},
   "outputs": [
    {
     "name": "stdout",
     "output_type": "stream",
     "text": [
      "cuda\n"
     ]
    }
   ],
   "source": [
    "device = torch.device(\"cuda\" if torch.cuda.is_available() else \"cpu\")\n",
    "print(device)"
   ]
  },
  {
   "cell_type": "code",
   "execution_count": 3,
   "metadata": {},
   "outputs": [],
   "source": [
    "RezNetTransform = transforms.Compose([\n",
    "    transforms.Resize(256),\n",
    "    transforms.CenterCrop(224),\n",
    "    transforms.ToTensor(),\n",
    "    transforms.Normalize(mean=[0.485, 0.456, 0.406], std=[0.229, 0.224, 0.225]),\n",
    "])"
   ]
  },
  {
   "cell_type": "code",
   "execution_count": 4,
   "metadata": {},
   "outputs": [],
   "source": [
    "class CustomDataset(torch.utils.data.Dataset):\n",
    "    def __init__(self, csv_path, images_folder, transform = RezNetTransform):\n",
    "        self.df = pd.read_csv(csv_path)\n",
    "        self.images_folder = images_folder\n",
    "        self.transform = transform\n",
    "\n",
    "    def __len__(self):\n",
    "        return len(self.df)\n",
    "\n",
    "    def __getitem__(self, index):\n",
    "        filename = str(self.df.id[index])+'.jpg'\n",
    "        label = self.df.stable[index]\n",
    "        image = PIL.Image.open(os.path.join(self.images_folder, filename))\n",
    "        sample = {'image': image, 'stable': label}\n",
    "        if self.transform:\n",
    "            sample['image'] = self.transform(sample['image'])\n",
    "        return sample"
   ]
  },
  {
   "cell_type": "code",
   "execution_count": 5,
   "metadata": {},
   "outputs": [],
   "source": [
    "dataset = CustomDataset(\"blocks-labels.csv\", './data')"
   ]
  },
  {
   "cell_type": "code",
   "execution_count": 6,
   "metadata": {},
   "outputs": [],
   "source": [
    "train_size = int(0.8 * len(dataset))\n",
    "test_size = 51276 - train_size\n",
    "train, test = torch.utils.data.random_split(dataset, [train_size, test_size])"
   ]
  },
  {
   "cell_type": "code",
   "execution_count": 7,
   "metadata": {},
   "outputs": [],
   "source": [
    "train_loader = torch.utils.data.DataLoader(train, batch_size=4, shuffle=True)\n",
    "test_loader = torch.utils.data.DataLoader(test, batch_size=4, shuffle=True)"
   ]
  },
  {
   "cell_type": "code",
   "execution_count": 8,
   "metadata": {},
   "outputs": [],
   "source": [
    "resnet = models.resnet18(pretrained=True)\n",
    "num_ftrs = resnet.fc.in_features\n",
    "resnet.fc = nn.Linear(num_ftrs, 2)\n",
    "resnet = resnet.to(device)"
   ]
  },
  {
   "cell_type": "code",
   "execution_count": 14,
   "metadata": {},
   "outputs": [
    {
     "name": "stdout",
     "output_type": "stream",
     "text": [
      "CrossEntropyLoss() SGD (\n",
      "Parameter Group 0\n",
      "    dampening: 0\n",
      "    lr: 0.01\n",
      "    momentum: 0.9\n",
      "    nesterov: False\n",
      "    weight_decay: 0\n",
      ")\n"
     ]
    },
    {
     "data": {
      "application/vnd.jupyter.widget-view+json": {
       "model_id": "30665383c68342b1a48dfe5126cf13c2",
       "version_major": 2,
       "version_minor": 0
      },
      "text/plain": [
       "HBox(children=(FloatProgress(value=0.0, max=10255.0), HTML(value='')))"
      ]
     },
     "metadata": {},
     "output_type": "display_data"
    },
    {
     "name": "stdout",
     "output_type": "stream",
     "text": [
      "1.611769199371338\n",
      "[1,   200] loss: 3.275\n",
      "1.820715308189392\n",
      "[1,   400] loss: 1.153\n",
      "3.028890609741211\n",
      "[1,   600] loss: 1.225\n",
      "1.2305315732955933\n",
      "[1,   800] loss: 0.936\n",
      "0.17305225133895874\n",
      "[1,  1000] loss: 1.036\n",
      "0.6461089253425598\n",
      "[1,  1200] loss: 0.831\n",
      "0.707642138004303\n",
      "[1,  1400] loss: 0.701\n",
      "0.6959787607192993\n",
      "[1,  1600] loss: 0.713\n",
      "0.6695823669433594\n",
      "[1,  1800] loss: 0.704\n",
      "0.7003813982009888\n",
      "[1,  2000] loss: 0.705\n",
      "0.7299576997756958\n",
      "[1,  2200] loss: 0.705\n",
      "0.8355540037155151\n",
      "[1,  2400] loss: 0.698\n",
      "0.589571475982666\n",
      "[1,  2600] loss: 0.773\n",
      "0.7278444766998291\n",
      "[1,  2800] loss: 0.735\n",
      "0.7028849124908447\n",
      "[1,  3000] loss: 0.694\n",
      "0.7017541527748108\n",
      "[1,  3200] loss: 0.701\n",
      "0.6365395784378052\n",
      "[1,  3400] loss: 0.695\n",
      "0.7314634323120117\n",
      "[1,  3600] loss: 0.698\n",
      "0.6537660956382751\n",
      "[1,  3800] loss: 0.693\n",
      "0.7422634959220886\n",
      "[1,  4000] loss: 0.698\n",
      "0.6801863312721252\n",
      "[1,  4200] loss: 0.692\n",
      "0.7080267667770386\n",
      "[1,  4400] loss: 0.699\n",
      "0.6561776995658875\n",
      "[1,  4600] loss: 0.698\n",
      "0.6805788278579712\n",
      "[1,  4800] loss: 0.695\n",
      "0.7367019057273865\n",
      "[1,  5000] loss: 0.700\n",
      "0.7069570422172546\n",
      "[1,  5200] loss: 0.699\n",
      "0.8303990960121155\n",
      "[1,  5400] loss: 0.689\n",
      "0.7371678948402405\n",
      "[1,  5600] loss: 0.699\n",
      "0.708683967590332\n",
      "[1,  5800] loss: 0.698\n",
      "0.7045753002166748\n",
      "[1,  6000] loss: 0.690\n",
      "0.8709555864334106\n",
      "[1,  6200] loss: 0.697\n",
      "0.6958732008934021\n",
      "[1,  6400] loss: 0.699\n",
      "0.6863729953765869\n",
      "[1,  6600] loss: 0.696\n",
      "0.7171271443367004\n",
      "[1,  6800] loss: 0.696\n",
      "0.7040461897850037\n",
      "[1,  7000] loss: 0.696\n",
      "0.6339048743247986\n",
      "[1,  7200] loss: 0.695\n",
      "0.5259769558906555\n",
      "[1,  7400] loss: 0.690\n",
      "0.7058378458023071\n",
      "[1,  7600] loss: 0.701\n",
      "0.6596485376358032\n",
      "[1,  7800] loss: 0.691\n",
      "0.7121224403381348\n",
      "[1,  8000] loss: 0.692\n",
      "0.6710399985313416\n",
      "[1,  8200] loss: 0.687\n",
      "0.6993869543075562\n",
      "[1,  8400] loss: 0.695\n",
      "0.7182308435440063\n",
      "[1,  8600] loss: 0.695\n",
      "0.681496262550354\n",
      "[1,  8800] loss: 0.696\n",
      "0.676687479019165\n",
      "[1,  9000] loss: 0.695\n",
      "0.6307769417762756\n",
      "[1,  9200] loss: 0.693\n",
      "0.6943342089653015\n",
      "[1,  9400] loss: 0.698\n",
      "0.7053911685943604\n",
      "[1,  9600] loss: 0.691\n",
      "0.6588213443756104\n",
      "[1,  9800] loss: 0.695\n",
      "0.7006703019142151\n",
      "[1, 10000] loss: 0.695\n",
      "0.6662551164627075\n",
      "[1, 10200] loss: 0.698\n",
      "\n",
      "Finished Training of RezNet\n"
     ]
    }
   ],
   "source": [
    "criterion = nn.CrossEntropyLoss()\n",
    "optimizer = optim.SGD(resnet.parameters(), lr=0.01, momentum=0.9)\n",
    "print(criterion, optimizer)\n",
    "\n",
    "losses = []\n",
    "for epoch in range(1):  # loop over the dataset\n",
    "    running_loss = 0.0\n",
    "    for i, data in enumerate(tqdm(train_loader)):\n",
    "        # get the inputs; data is a list of [inputs, labels]\n",
    "        # zero the parameter gradients\n",
    "        inputs, labels = data['image'].to(device), data['stable'].to(device)\n",
    "        optimizer.zero_grad()\n",
    "        # forward + backward + optimize\n",
    "        output = resnet(inputs)\n",
    "        loss = criterion(output, labels)\n",
    "        loss.backward()\n",
    "        optimizer.step()\n",
    "\n",
    "        # print statistics\n",
    "        running_loss += loss.item()\n",
    "        if i % 200 == 199:   \n",
    "            print(loss.item())\n",
    "            print('[%d, %5d] loss: %.3f' %\n",
    "                  (epoch + 1, i + 1, running_loss / 200))\n",
    "            running_loss = 0.0\n",
    "        epoch_loss = running_loss / len(train_loader)\n",
    "        losses.append(epoch_loss)\n",
    "print('Finished Training of RezNet')"
   ]
  },
  {
   "cell_type": "code",
   "execution_count": null,
   "metadata": {},
   "outputs": [],
   "source": []
  }
 ],
 "metadata": {
  "kernelspec": {
   "display_name": "Python 3",
   "language": "python",
   "name": "python3"
  },
  "language_info": {
   "codemirror_mode": {
    "name": "ipython",
    "version": 3
   },
   "file_extension": ".py",
   "mimetype": "text/x-python",
   "name": "python",
   "nbconvert_exporter": "python",
   "pygments_lexer": "ipython3",
   "version": "3.8.3"
  }
 },
 "nbformat": 4,
 "nbformat_minor": 4
}
